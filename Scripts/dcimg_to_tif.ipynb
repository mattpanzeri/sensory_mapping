{
 "cells": [
  {
   "cell_type": "markdown",
   "metadata": {},
   "source": [
    "# WORK IN PROGRESS"
   ]
  },
  {
   "cell_type": "code",
   "execution_count": 1,
   "metadata": {},
   "outputs": [
    {
     "name": "stdout",
     "output_type": "stream",
     "text": [
      "Requirement already satisfied: tifffile in c:\\anaconda3\\lib\\site-packages (2020.6.3)\n",
      "Requirement already satisfied: numpy>=1.15.1 in c:\\anaconda3\\lib\\site-packages (from tifffile) (1.19.4)\n"
     ]
    }
   ],
   "source": [
    "# !pip install dcimg\n",
    "!pip install tifffile"
   ]
  },
  {
   "cell_type": "code",
   "execution_count": 1,
   "metadata": {},
   "outputs": [],
   "source": [
    "import numpy as np\n",
    "import matplotlib.pyplot as plt\n",
    "import dcimg\n",
    "import tifffile as tif\n",
    "import glob, os"
   ]
  },
  {
   "cell_type": "code",
   "execution_count": 2,
   "metadata": {},
   "outputs": [
    {
     "data": {
      "text/plain": [
       "['collimation_backward.dcimg', 'collimation_forward.dcimg']"
      ]
     },
     "execution_count": 2,
     "metadata": {},
     "output_type": "execute_result"
    }
   ],
   "source": [
    "folder = \"E:/matteo/2021_05_11/scope/\"\n",
    "files = glob.glob( folder + '*.dcimg')\n",
    "files = [os.path.basename(file) for file in files]\n",
    "files"
   ]
  },
  {
   "cell_type": "code",
   "execution_count": 3,
   "metadata": {},
   "outputs": [
    {
     "name": "stdout",
     "output_type": "stream",
     "text": [
      "Saved: E:/matteo/2021_05_11/scope/collimation_backward.tif\n",
      "Saved: E:/matteo/2021_05_11/scope/collimation_forward.tif\n"
     ]
    }
   ],
   "source": [
    "for file in files:\n",
    "    path = folder + file\n",
    "    wide = dcimg.DCIMGFile(path)\n",
    "    \n",
    "    # save as .tif file\n",
    "    toSave_cOrder = np.array( np.array( wide[:,:,:] ).copy(order='C'), dtype=np.uint16)\n",
    "\n",
    "    save_path = folder + file[:-6] + \".tif\"\n",
    "    import tifffile as tif\n",
    "    tif.imwrite( save_path, data=toSave_cOrder)\n",
    "    print(\"Saved:\", save_path)\n",
    "    \n",
    "    del wide\n",
    "    del toSave_cOrder\n",
    "    \n",
    "wide, toSave_cOrder = None, None "
   ]
  }
 ],
 "metadata": {
  "kernelspec": {
   "display_name": "Python 3",
   "language": "python",
   "name": "python3"
  },
  "language_info": {
   "codemirror_mode": {
    "name": "ipython",
    "version": 3
   },
   "file_extension": ".py",
   "mimetype": "text/x-python",
   "name": "python",
   "nbconvert_exporter": "python",
   "pygments_lexer": "ipython3",
   "version": "3.6.13"
  }
 },
 "nbformat": 4,
 "nbformat_minor": 2
}
